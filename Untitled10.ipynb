{
  "nbformat": 4,
  "nbformat_minor": 0,
  "metadata": {
    "colab": {
      "provenance": [],
      "authorship_tag": "ABX9TyNZL88EfQ+1Z7IhpZc8A7Zh",
      "include_colab_link": true
    },
    "kernelspec": {
      "name": "python3",
      "display_name": "Python 3"
    },
    "language_info": {
      "name": "python"
    }
  },
  "cells": [
    {
      "cell_type": "markdown",
      "metadata": {
        "id": "view-in-github",
        "colab_type": "text"
      },
      "source": [
        "<a href=\"https://colab.research.google.com/github/NoelPaulMailakkal/Business-Analytics-with-Python/blob/main/Untitled10.ipynb\" target=\"_parent\"><img src=\"https://colab.research.google.com/assets/colab-badge.svg\" alt=\"Open In Colab\"/></a>"
      ]
    },
    {
      "cell_type": "code",
      "execution_count": 1,
      "metadata": {
        "colab": {
          "base_uri": "https://localhost:8080/"
        },
        "id": "Z2D4qiedFWu_",
        "outputId": "052209a8-7f8e-4be3-86f6-85b775cb96e2"
      },
      "outputs": [
        {
          "name": "stdout",
          "output_type": "stream",
          "text": [
            "enter your mark69\n"
          ]
        }
      ],
      "source": [
        "x=int(input(\"enter your mark\"))"
      ]
    },
    {
      "cell_type": "code",
      "source": [
        "if x>50 :\n",
        "  print (\"you passed\")\n",
        "  if x<50:\n",
        "    print (\"failed\")"
      ],
      "metadata": {
        "colab": {
          "base_uri": "https://localhost:8080/"
        },
        "id": "MO_0AjWmFouP",
        "outputId": "c92e1d9d-debb-472f-8f4a-5ca53e295dcd"
      },
      "execution_count": 2,
      "outputs": [
        {
          "output_type": "stream",
          "name": "stdout",
          "text": [
            "you passed\n"
          ]
        }
      ]
    },
    {
      "cell_type": "code",
      "source": [
        "y=int(input(\"enter salary\"))"
      ],
      "metadata": {
        "colab": {
          "base_uri": "https://localhost:8080/"
        },
        "id": "kuCBzFVqGnE7",
        "outputId": "4553690d-2b89-41eb-d104-5b1ada187388"
      },
      "execution_count": 3,
      "outputs": [
        {
          "name": "stdout",
          "output_type": "stream",
          "text": [
            "enter salary150000\n"
          ]
        }
      ]
    },
    {
      "cell_type": "code",
      "source": [
        "if y<250000:\n",
        "  print (\"you are not taxable\")\n",
        "if y>250000:\n",
        "  print(\"you are taxable\")"
      ],
      "metadata": {
        "colab": {
          "base_uri": "https://localhost:8080/"
        },
        "id": "KraW1eENG9Fi",
        "outputId": "036aacb5-c6d2-4ff4-9775-d3e9d936cd37"
      },
      "execution_count": 6,
      "outputs": [
        {
          "output_type": "stream",
          "name": "stdout",
          "text": [
            "you are not taxable\n"
          ]
        }
      ]
    },
    {
      "cell_type": "code",
      "source": [
        "y=int(input(\"enter salary\"))\n",
        "if y<250000:\n",
        "   print (\"you are not taxable\")\n",
        "if y>250000:\n",
        "  tax=y-250000\n",
        "  ta=tax*10/100\n",
        "  print(\"you are taxable\")\n",
        "  print(ta)"
      ],
      "metadata": {
        "colab": {
          "base_uri": "https://localhost:8080/"
        },
        "id": "Jcc-rLhQHUrB",
        "outputId": "885a871c-ba3a-4ef1-d5c4-2c61cde54b57"
      },
      "execution_count": 8,
      "outputs": [
        {
          "output_type": "stream",
          "name": "stdout",
          "text": [
            "enter salary600000\n",
            "you are taxable\n",
            "35000.0\n"
          ]
        }
      ]
    },
    {
      "cell_type": "code",
      "source": [
        "y=int(input(\"Enter your salary : \"))\n",
        "if y>250000 and y<500000:\n",
        "  tax=y-250000\n",
        "  taxamount=tax*10/100\n",
        "  print(\"you are taxable\")\n",
        "  print(\"taxable amount : \",taxamount)\n",
        "if y>500000:\n",
        "  t=y-250000\n",
        "  ta=t*20/100\n",
        "  print(\"you are taxable\")\n",
        "  print(ta)\n",
        "else:\n",
        "  print(\"NEE SHOOOPERADAAA\")\n"
      ],
      "metadata": {
        "colab": {
          "base_uri": "https://localhost:8080/"
        },
        "id": "NP2oARdQJjlA",
        "outputId": "889b74e4-36ba-405f-9d74-c993d85ca252"
      },
      "execution_count": 9,
      "outputs": [
        {
          "output_type": "stream",
          "name": "stdout",
          "text": [
            "Enter your salary : 450000\n",
            "you are taxable\n",
            "taxable amount :  20000.0\n",
            "NEE SHOOOPERADAAA\n"
          ]
        }
      ]
    },
    {
      "cell_type": "code",
      "source": [],
      "metadata": {
        "id": "LldoXaZxN7S2"
      },
      "execution_count": null,
      "outputs": []
    }
  ]
}