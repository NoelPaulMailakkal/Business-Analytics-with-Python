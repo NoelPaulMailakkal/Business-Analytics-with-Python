{
  "nbformat": 4,
  "nbformat_minor": 0,
  "metadata": {
    "colab": {
      "name": "Untitled3.ipynb",
      "provenance": [],
      "authorship_tag": "ABX9TyMe0ymfHCOSI1Zq0MsDTV6u",
      "include_colab_link": true
    },
    "kernelspec": {
      "name": "python3",
      "display_name": "Python 3"
    },
    "language_info": {
      "name": "python"
    }
  },
  "cells": [
    {
      "cell_type": "markdown",
      "metadata": {
        "id": "view-in-github",
        "colab_type": "text"
      },
      "source": [
        "<a href=\"https://colab.research.google.com/github/NoelPaulMailakkal/Business-Analytics-with-Python/blob/main/Untitled3.ipynb\" target=\"_parent\"><img src=\"https://colab.research.google.com/assets/colab-badge.svg\" alt=\"Open In Colab\"/></a>"
      ]
    },
    {
      "cell_type": "code",
      "execution_count": null,
      "metadata": {
        "colab": {
          "base_uri": "https://localhost:8080/"
        },
        "id": "jIAuhGEDSAJo",
        "outputId": "4b5a75b1-b831-4799-b5dd-22e30da9663d"
      },
      "outputs": [
        {
          "name": "stdout",
          "output_type": "stream",
          "text": [
            "enter the basic salary400000\n",
            "enter the HRA30000\n",
            "enter special allowance20000\n",
            "enter LTA10000\n"
          ]
        }
      ],
      "source": [
        "i=int(input(\"enter the basic salary\"))\n",
        "b=int(input(\"enter the HRA\"))\n",
        "c=int(input(\"enter special allowance\"))\n",
        "d=int(input(\"enter LTA\"))\n"
      ]
    },
    {
      "cell_type": "code",
      "source": [
        "if a > 250000 and a < 500000:\n",
        "  p=a-250000\n",
        "  print (\"tax\",p*5/100)"
      ],
      "metadata": {
        "colab": {
          "base_uri": "https://localhost:8080/"
        },
        "id": "IW98dO8eTMTj",
        "outputId": "b5658a8d-a028-4f8a-e71e-a70062dc503a"
      },
      "execution_count": null,
      "outputs": [
        {
          "output_type": "stream",
          "name": "stdout",
          "text": [
            "tax 7500.0\n"
          ]
        }
      ]
    },
    {
      "cell_type": "code",
      "source": [
        "if a > 250000 and a < 500000:\n",
        "  p=a-250000\n",
        "  print(\"tax\",p*10/100)"
      ],
      "metadata": {
        "colab": {
          "base_uri": "https://localhost:8080/"
        },
        "id": "poYQULBwXC-B",
        "outputId": "c959e927-71c5-4d63-c900-da155de9b476"
      },
      "execution_count": null,
      "outputs": [
        {
          "output_type": "stream",
          "name": "stdout",
          "text": [
            "tax 15000.0\n"
          ]
        }
      ]
    },
    {
      "cell_type": "code",
      "source": [
        "if a > 250000 and a < 500000:\n",
        "  p=a-250000\n",
        "  print(\"tax\",p*30/100)"
      ],
      "metadata": {
        "colab": {
          "base_uri": "https://localhost:8080/"
        },
        "id": "3ozItNvOaLqO",
        "outputId": "a04f10b7-c565-4d4c-eb3e-900c8366d29c"
      },
      "execution_count": null,
      "outputs": [
        {
          "output_type": "stream",
          "name": "stdout",
          "text": [
            "tax 45000.0\n"
          ]
        }
      ]
    },
    {
      "cell_type": "code",
      "source": [
        "i=int(input(\"enter LTA:\"))\n",
        "if i>250000 and i<500000:\n",
        "  q=i-250000\n",
        "  print(\"TAX:\",q*5/100)\n",
        "elif i>500000 and i<750000:\n",
        "  q=i-500000\n",
        "  w=500000-250000\n",
        "  print(\"TAX:\",w*5/100+q*10/100)\n",
        "elif i>750000 and i<1000000:\n",
        "  q=i-750000\n",
        "  w=500000-250000\n",
        "  e=750000-500000\n",
        "  print(\"TAX:\",q*20/100+w*5/100+e*10/100))\n",
        "elif i>1000000:\n",
        "  q=i-1000000\n",
        "  w=500000-250000\n",
        "  e=750000-500000\n",
        "  r=1000000-750000\n",
        "  print(\"TAX:\",q*30/100+w*5/100+e*10/100+r*20/100)\n",
        "\n"
      ],
      "metadata": {
        "colab": {
          "base_uri": "https://localhost:8080/",
          "height": 130
        },
        "id": "Ddf3RFVFcgiC",
        "outputId": "949f8685-ffee-4a8e-967a-35412bddf697"
      },
      "execution_count": null,
      "outputs": [
        {
          "output_type": "error",
          "ename": "SyntaxError",
          "evalue": "ignored",
          "traceback": [
            "\u001b[0;36m  File \u001b[0;32m\"<ipython-input-32-54e3ff38db5f>\"\u001b[0;36m, line \u001b[0;32m2\u001b[0m\n\u001b[0;31m    if i>250000 and i<500000:\u001b[0m\n\u001b[0m       ^\u001b[0m\n\u001b[0;31mSyntaxError\u001b[0m\u001b[0;31m:\u001b[0m invalid character in identifier\n"
          ]
        }
      ]
    },
    {
      "cell_type": "code",
      "source": [
        ""
      ],
      "metadata": {
        "id": "zKyFe-gIiwai"
      },
      "execution_count": null,
      "outputs": []
    }
  ]
}