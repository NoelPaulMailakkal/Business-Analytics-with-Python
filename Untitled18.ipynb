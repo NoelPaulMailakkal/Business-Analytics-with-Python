{
  "nbformat": 4,
  "nbformat_minor": 0,
  "metadata": {
    "colab": {
      "provenance": [],
      "authorship_tag": "ABX9TyP54rKURF0HXuotPCXOIpoU",
      "include_colab_link": true
    },
    "kernelspec": {
      "name": "python3",
      "display_name": "Python 3"
    },
    "language_info": {
      "name": "python"
    }
  },
  "cells": [
    {
      "cell_type": "markdown",
      "metadata": {
        "id": "view-in-github",
        "colab_type": "text"
      },
      "source": [
        "<a href=\"https://colab.research.google.com/github/NoelPaulMailakkal/Business-Analytics-with-Python/blob/main/Untitled18.ipynb\" target=\"_parent\"><img src=\"https://colab.research.google.com/assets/colab-badge.svg\" alt=\"Open In Colab\"/></a>"
      ]
    },
    {
      "cell_type": "code",
      "execution_count": 1,
      "metadata": {
        "colab": {
          "base_uri": "https://localhost:8080/"
        },
        "id": "Gc0E-wGCvEm3",
        "outputId": "20c224fa-4b86-4f0f-891c-f4deb45c8d5d"
      },
      "outputs": [
        {
          "output_type": "execute_result",
          "data": {
            "text/plain": [
              "4"
            ]
          },
          "metadata": {},
          "execution_count": 1
        }
      ],
      "source": [
        "x=[\"John\",\"Mary\", \"Paul\", \"David\"]\n",
        "len(x)"
      ]
    },
    {
      "cell_type": "code",
      "source": [
        "x=[\"John\",\"Mary\", \"Paul\", \"David\"]\n",
        "type(x)"
      ],
      "metadata": {
        "colab": {
          "base_uri": "https://localhost:8080/"
        },
        "id": "g3qq0b3Fvq0x",
        "outputId": "c2293197-3530-4853-b5f1-13520cb53163"
      },
      "execution_count": 2,
      "outputs": [
        {
          "output_type": "execute_result",
          "data": {
            "text/plain": [
              "list"
            ]
          },
          "metadata": {},
          "execution_count": 2
        }
      ]
    },
    {
      "cell_type": "code",
      "source": [
        "y=[9095,\"Mithara\",19 , \"28/05/2003\",\"Malapuram\"]\n",
        "print(y)\n",
        "print(type(y))\n",
        "      "
      ],
      "metadata": {
        "colab": {
          "base_uri": "https://localhost:8080/"
        },
        "id": "Lc_lW2dDvyv8",
        "outputId": "bbd4b9af-c9fa-4381-cc4f-6875019d23cf"
      },
      "execution_count": 3,
      "outputs": [
        {
          "output_type": "stream",
          "name": "stdout",
          "text": [
            "[9095, 'Mithara', 19, '28/05/2003', 'Malapuram']\n",
            "<class 'list'>\n"
          ]
        }
      ]
    },
    {
      "cell_type": "code",
      "source": [
        "z=[59,37,82,59,75,29,45,41,95,76]\n",
        "print(z)"
      ],
      "metadata": {
        "colab": {
          "base_uri": "https://localhost:8080/"
        },
        "id": "8PunPCZSxdzy",
        "outputId": "6ef5070c-27da-47b4-eea9-c81bf7b7297e"
      },
      "execution_count": 6,
      "outputs": [
        {
          "output_type": "stream",
          "name": "stdout",
          "text": [
            "[59, 37, 82, 59, 75, 29, 45, 41, 95, 76]\n"
          ]
        }
      ]
    },
    {
      "cell_type": "code",
      "source": [
        "z[0:1]"
      ],
      "metadata": {
        "colab": {
          "base_uri": "https://localhost:8080/"
        },
        "id": "5z_P1hiMygGp",
        "outputId": "c6df1a21-ff00-41c7-ff2a-82b744d5a4cd"
      },
      "execution_count": 9,
      "outputs": [
        {
          "output_type": "execute_result",
          "data": {
            "text/plain": [
              "[59]"
            ]
          },
          "metadata": {},
          "execution_count": 9
        }
      ]
    },
    {
      "cell_type": "code",
      "source": [
        "z[6:8]"
      ],
      "metadata": {
        "colab": {
          "base_uri": "https://localhost:8080/"
        },
        "id": "0M9Exvf0zBqA",
        "outputId": "515407a5-30b2-4bd1-b1ea-457de669489d"
      },
      "execution_count": 12,
      "outputs": [
        {
          "output_type": "execute_result",
          "data": {
            "text/plain": [
              "[45, 41]"
            ]
          },
          "metadata": {},
          "execution_count": 12
        }
      ]
    },
    {
      "cell_type": "code",
      "source": [
        "z[-6:-4]"
      ],
      "metadata": {
        "colab": {
          "base_uri": "https://localhost:8080/"
        },
        "id": "C8lmDoeczgYi",
        "outputId": "96a22349-8a9f-4a1c-82d6-fdb5be6fc841"
      },
      "execution_count": 13,
      "outputs": [
        {
          "output_type": "execute_result",
          "data": {
            "text/plain": [
              "[75, 29]"
            ]
          },
          "metadata": {},
          "execution_count": 13
        }
      ]
    },
    {
      "cell_type": "code",
      "source": [
        "z=[59,37,82,59,75,29,45,41,95,76]\n",
        "z[0]=4\n",
        "print(z)"
      ],
      "metadata": {
        "colab": {
          "base_uri": "https://localhost:8080/"
        },
        "id": "dPF5MaLhz5SA",
        "outputId": "a01eeac0-ff88-40da-a8d8-f77ea922e6dc"
      },
      "execution_count": 15,
      "outputs": [
        {
          "output_type": "stream",
          "name": "stdout",
          "text": [
            "[4, 37, 82, 59, 75, 29, 45, 41, 95, 76]\n"
          ]
        }
      ]
    },
    {
      "cell_type": "code",
      "source": [
        "y=[9095,\"Mithara\",19 , \"28/05/2003\",\"Malapuram\"]\n",
        "y[4]=\"rajagiri\"\n",
        "print(y)"
      ],
      "metadata": {
        "colab": {
          "base_uri": "https://localhost:8080/"
        },
        "id": "JaMkOzoj0mDJ",
        "outputId": "359933d0-40c3-44ee-b946-b2e06045c591"
      },
      "execution_count": 16,
      "outputs": [
        {
          "output_type": "stream",
          "name": "stdout",
          "text": [
            "[9095, 'Mithara', 19, '28/05/2003', 'rajagiri']\n"
          ]
        }
      ]
    },
    {
      "cell_type": "code",
      "source": [
        "z=[59,37,82,59,75,29,45,41,95,76]\n",
        "z.append(69)"
      ],
      "metadata": {
        "id": "6XuIGHDT2b9v"
      },
      "execution_count": 17,
      "outputs": []
    },
    {
      "cell_type": "code",
      "source": [
        "z"
      ],
      "metadata": {
        "colab": {
          "base_uri": "https://localhost:8080/"
        },
        "id": "xV-Fj77e3a6c",
        "outputId": "863b2942-f9e9-4ffc-96e6-7b885e70d7ff"
      },
      "execution_count": 18,
      "outputs": [
        {
          "output_type": "execute_result",
          "data": {
            "text/plain": [
              "[59, 37, 82, 59, 75, 29, 45, 41, 95, 76, 69]"
            ]
          },
          "metadata": {},
          "execution_count": 18
        }
      ]
    },
    {
      "cell_type": "code",
      "source": [
        "c=0\n",
        "s=[]\n",
        "while c<4:\n",
        "  name=input(\"entyer name:\")\n",
        "  s.append(name)\n",
        "  c=c+1\n",
        "  print(s)"
      ],
      "metadata": {
        "colab": {
          "base_uri": "https://localhost:8080/"
        },
        "id": "i_gT8lMu3cdT",
        "outputId": "b74c119c-1c91-4c87-eb8a-e931c95f0972"
      },
      "execution_count": 22,
      "outputs": [
        {
          "output_type": "stream",
          "name": "stdout",
          "text": [
            "entyer name:kdgh\n",
            "['kdgh']\n",
            "entyer name:mjghc,j\n",
            "['kdgh', 'mjghc,j']\n",
            "entyer name:mjgfrhj\n",
            "['kdgh', 'mjghc,j', 'mjgfrhj']\n",
            "entyer name:hgdjgc'\n",
            "['kdgh', 'mjghc,j', 'mjgfrhj', \"hgdjgc'\"]\n"
          ]
        }
      ]
    },
    {
      "cell_type": "code",
      "source": [
        "x=[\"james\",\"stephan\"]\n",
        "y=x.copy\n",
        "print(y)"
      ],
      "metadata": {
        "colab": {
          "base_uri": "https://localhost:8080/"
        },
        "id": "Xkt0bChC8mbW",
        "outputId": "42e14815-476b-4134-f9fe-f1feb4f1aaf3"
      },
      "execution_count": 23,
      "outputs": [
        {
          "output_type": "stream",
          "name": "stdout",
          "text": [
            "<built-in method copy of list object at 0x7f5bc9e74640>\n"
          ]
        }
      ]
    },
    {
      "cell_type": "code",
      "source": [
        "x=[\"John\",\"Mary\", \"Paul\", \"David\"]\n",
        "y=[\"a\",\"b\",\"c\"]\n",
        "x.extend(y)\n",
        "x"
      ],
      "metadata": {
        "colab": {
          "base_uri": "https://localhost:8080/"
        },
        "id": "GjWdTo-A9P-N",
        "outputId": "211c09ac-3d37-400d-b2fb-3ceddca20916"
      },
      "execution_count": 24,
      "outputs": [
        {
          "output_type": "execute_result",
          "data": {
            "text/plain": [
              "['John', 'Mary', 'Paul', 'David', 'a', 'b', 'c']"
            ]
          },
          "metadata": {},
          "execution_count": 24
        }
      ]
    },
    {
      "cell_type": "code",
      "source": [
        "y"
      ],
      "metadata": {
        "colab": {
          "base_uri": "https://localhost:8080/"
        },
        "id": "BZZjbDP--UyR",
        "outputId": "1453c188-79a9-4df2-8a2c-417948650251"
      },
      "execution_count": 25,
      "outputs": [
        {
          "output_type": "execute_result",
          "data": {
            "text/plain": [
              "['a', 'b', 'c']"
            ]
          },
          "metadata": {},
          "execution_count": 25
        }
      ]
    },
    {
      "cell_type": "code",
      "source": [
        "x=[\"james\",\"stephan\"]\n",
        "x.count(\"e\")"
      ],
      "metadata": {
        "colab": {
          "base_uri": "https://localhost:8080/"
        },
        "id": "knYpcmf--WoQ",
        "outputId": "c1ef2579-c23b-41b2-d281-8f3e4a14a9f3"
      },
      "execution_count": 27,
      "outputs": [
        {
          "output_type": "execute_result",
          "data": {
            "text/plain": [
              "0"
            ]
          },
          "metadata": {},
          "execution_count": 27
        }
      ]
    },
    {
      "cell_type": "code",
      "source": [
        "x=[\"John\",\"Mary\", \"Paul\", \"David\"]\n",
        "x[1:3]=[\"Narsai\",\"Noel\"]\n",
        "print(x)"
      ],
      "metadata": {
        "colab": {
          "base_uri": "https://localhost:8080/"
        },
        "id": "_EJP4Zq5-7K1",
        "outputId": "d0f5404a-bfa2-4f98-8429-3ceb585b1d80"
      },
      "execution_count": 33,
      "outputs": [
        {
          "output_type": "stream",
          "name": "stdout",
          "text": [
            "['John', 'Narsai', 'Noel', 'David']\n"
          ]
        }
      ]
    },
    {
      "cell_type": "code",
      "source": [
        "x=[\"John\",\"Mary\", \"Paul\", \"David\"]\n",
        "x.insert(2 ,\"James\")\n",
        "print(x)"
      ],
      "metadata": {
        "colab": {
          "base_uri": "https://localhost:8080/"
        },
        "id": "6gskZImsAK5s",
        "outputId": "498f945b-2991-4f42-90d8-bd69a4847ad7"
      },
      "execution_count": 38,
      "outputs": [
        {
          "output_type": "stream",
          "name": "stdout",
          "text": [
            "['John', 'Mary', 'James', 'Paul', 'David']\n"
          ]
        }
      ]
    },
    {
      "cell_type": "code",
      "source": [
        "x=['John', 'Mary', 'James', 'Paul', 'David']\n",
        "x.remove(\"James\")\n",
        "print(x)"
      ],
      "metadata": {
        "colab": {
          "base_uri": "https://localhost:8080/"
        },
        "id": "0J7BUYmeCF2G",
        "outputId": "9c4a100a-18eb-4179-f8d0-24ea907888e1"
      },
      "execution_count": 42,
      "outputs": [
        {
          "output_type": "stream",
          "name": "stdout",
          "text": [
            "['John', 'Mary', 'Paul', 'David']\n"
          ]
        }
      ]
    },
    {
      "cell_type": "code",
      "source": [
        "x=[\"John\",\"Mary\", \"Paul\", \"David\"]\n",
        "del x[0]\n",
        "print(x)"
      ],
      "metadata": {
        "colab": {
          "base_uri": "https://localhost:8080/"
        },
        "id": "2kh0Y3NUCrhY",
        "outputId": "39285b9b-760c-4b3d-9d32-2f006ef26731"
      },
      "execution_count": 43,
      "outputs": [
        {
          "output_type": "stream",
          "name": "stdout",
          "text": [
            "['Mary', 'Paul', 'David']\n"
          ]
        }
      ]
    },
    {
      "cell_type": "code",
      "source": [
        "x=[\"John\",\"Mary\", \"Paul\", \"David\"]\n",
        "del x[0:2]\n",
        "print(x)"
      ],
      "metadata": {
        "colab": {
          "base_uri": "https://localhost:8080/"
        },
        "id": "t_3y_HTpDKfC",
        "outputId": "daeff942-8396-46be-e971-c85cb91b2aae"
      },
      "execution_count": 45,
      "outputs": [
        {
          "output_type": "stream",
          "name": "stdout",
          "text": [
            "['Paul', 'David']\n"
          ]
        }
      ]
    },
    {
      "cell_type": "code",
      "source": [],
      "metadata": {
        "id": "RHqFVQ6fDizx"
      },
      "execution_count": null,
      "outputs": []
    }
  ]
}