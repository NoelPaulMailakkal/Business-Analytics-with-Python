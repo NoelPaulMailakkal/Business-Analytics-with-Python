{
  "nbformat": 4,
  "nbformat_minor": 0,
  "metadata": {
    "colab": {
      "provenance": [],
      "authorship_tag": "ABX9TyON+n+Q54fiWxNUn/KbzQ6G",
      "include_colab_link": true
    },
    "kernelspec": {
      "name": "python3",
      "display_name": "Python 3"
    },
    "language_info": {
      "name": "python"
    }
  },
  "cells": [
    {
      "cell_type": "markdown",
      "metadata": {
        "id": "view-in-github",
        "colab_type": "text"
      },
      "source": [
        "<a href=\"https://colab.research.google.com/github/NoelPaulMailakkal/Business-Analytics-with-Python/blob/main/Untitled18.ipynb\" target=\"_parent\"><img src=\"https://colab.research.google.com/assets/colab-badge.svg\" alt=\"Open In Colab\"/></a>"
      ]
    },
    {
      "cell_type": "code",
      "execution_count": 7,
      "metadata": {
        "id": "Yyw00pweaGHm"
      },
      "outputs": [],
      "source": [
        "x=[5,6,6,4,3,7,3,56,4,56]\n",
        "def sum(x):\n",
        " a=0\n",
        " for i in x:\n",
        "  a=a+i\n",
        " print(a)"
      ]
    },
    {
      "cell_type": "code",
      "source": [
        "sum(x)"
      ],
      "metadata": {
        "colab": {
          "base_uri": "https://localhost:8080/"
        },
        "id": "3A3id-vKbDwO",
        "outputId": "30c16b55-753b-4a59-bdef-11532554f155"
      },
      "execution_count": 8,
      "outputs": [
        {
          "output_type": "stream",
          "name": "stdout",
          "text": [
            "150\n"
          ]
        }
      ]
    },
    {
      "cell_type": "code",
      "source": [
        "x=[5,6,6,4,3,7,3,56,4,56]\n",
        "def even(x):\n",
        " for i in x:\n",
        "  if i%2==0:\n",
        "   print(i)\n"
      ],
      "metadata": {
        "id": "BnpVpMDEbEb4"
      },
      "execution_count": 15,
      "outputs": []
    },
    {
      "cell_type": "code",
      "source": [
        "even(x)"
      ],
      "metadata": {
        "colab": {
          "base_uri": "https://localhost:8080/"
        },
        "id": "dijgn_jbccdz",
        "outputId": "01803f80-b017-45d1-bc98-e92a056986fc"
      },
      "execution_count": 16,
      "outputs": [
        {
          "output_type": "stream",
          "name": "stdout",
          "text": [
            "6\n",
            "6\n",
            "4\n",
            "56\n",
            "4\n",
            "56\n"
          ]
        }
      ]
    },
    {
      "cell_type": "code",
      "source": [
        "x=[5,6,6,4,3,7,3,56,4,56]\n",
        "def odd(x):\n",
        " for i in x:\n",
        "  if i%2==1:\n",
        "   print(i)"
      ],
      "metadata": {
        "id": "kGCpAATYcdDR"
      },
      "execution_count": 17,
      "outputs": []
    },
    {
      "cell_type": "code",
      "source": [
        "odd(x)"
      ],
      "metadata": {
        "colab": {
          "base_uri": "https://localhost:8080/"
        },
        "id": "IIrsIm-ifAZK",
        "outputId": "f7d57ecb-36bb-4f9e-c67f-5ddde3fc533a"
      },
      "execution_count": 18,
      "outputs": [
        {
          "output_type": "stream",
          "name": "stdout",
          "text": [
            "5\n",
            "3\n",
            "7\n",
            "3\n"
          ]
        }
      ]
    },
    {
      "cell_type": "code",
      "source": [
        "x=(\"Python is a high-level, general-purpose programming language.\")\n",
        "def python():\n",
        "  a=x.replace(\"a\",\"\")\n",
        "  b=a.replace(\"e\",\"\")\n",
        "  c=b.replace(\"i\",\"\")\n",
        "  d=c.replace(\"o\",\"\")\n",
        "  e=d.replace(\"u\",\"\")\n",
        "  print(e)"
      ],
      "metadata": {
        "id": "GWGZZxgNfCRa"
      },
      "execution_count": 19,
      "outputs": []
    },
    {
      "cell_type": "code",
      "source": [
        "python()"
      ],
      "metadata": {
        "colab": {
          "base_uri": "https://localhost:8080/"
        },
        "id": "BPAGvY6_mwOS",
        "outputId": "d1b767a2-4b26-481e-e9c5-10da157075e9"
      },
      "execution_count": 20,
      "outputs": [
        {
          "output_type": "stream",
          "name": "stdout",
          "text": [
            "Pythn s  hgh-lvl, gnrl-prps prgrmmng lngg.\n"
          ]
        }
      ]
    },
    {
      "cell_type": "code",
      "source": [],
      "metadata": {
        "id": "dg049cipmyKJ"
      },
      "execution_count": null,
      "outputs": []
    }
  ]
}