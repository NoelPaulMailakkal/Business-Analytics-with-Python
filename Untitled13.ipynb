{
  "nbformat": 4,
  "nbformat_minor": 0,
  "metadata": {
    "colab": {
      "provenance": [],
      "authorship_tag": "ABX9TyPQMP29ITCIAnoVQbCS/3JY",
      "include_colab_link": true
    },
    "kernelspec": {
      "name": "python3",
      "display_name": "Python 3"
    },
    "language_info": {
      "name": "python"
    }
  },
  "cells": [
    {
      "cell_type": "markdown",
      "metadata": {
        "id": "view-in-github",
        "colab_type": "text"
      },
      "source": [
        "<a href=\"https://colab.research.google.com/github/NoelPaulMailakkal/Business-Analytics-with-Python/blob/main/Untitled13.ipynb\" target=\"_parent\"><img src=\"https://colab.research.google.com/assets/colab-badge.svg\" alt=\"Open In Colab\"/></a>"
      ]
    },
    {
      "cell_type": "code",
      "execution_count": 1,
      "metadata": {
        "colab": {
          "base_uri": "https://localhost:8080/"
        },
        "id": "Lj5mghHiyPeF",
        "outputId": "653385a5-38b3-4f2b-b2f6-a8ac7308a18c"
      },
      "outputs": [
        {
          "output_type": "stream",
          "name": "stdout",
          "text": [
            "this is \"Python\" programming\n"
          ]
        }
      ],
      "source": [
        "x=\"this is \\\"Python\\\" programming\"\n",
        "print(x)"
      ]
    },
    {
      "cell_type": "code",
      "source": [
        "print(\"\\\"NOEL\\\"JOSEPH ALEXANDER\")"
      ],
      "metadata": {
        "colab": {
          "base_uri": "https://localhost:8080/"
        },
        "id": "vR-cbFNyyc5-",
        "outputId": "75d1fc33-5c40-4e42-eb59-d27a5f996b35"
      },
      "execution_count": 3,
      "outputs": [
        {
          "output_type": "stream",
          "name": "stdout",
          "text": [
            "\"NOEL\"JOSEPH ALEXANDER\n"
          ]
        }
      ]
    },
    {
      "cell_type": "code",
      "source": [
        "print('He\\' s a docter')"
      ],
      "metadata": {
        "colab": {
          "base_uri": "https://localhost:8080/"
        },
        "id": "19QJVMe1zwLM",
        "outputId": "d838ccff-27ac-49d3-d7fa-d3b03022e81d"
      },
      "execution_count": 4,
      "outputs": [
        {
          "output_type": "stream",
          "name": "stdout",
          "text": [
            "He' s a docter\n"
          ]
        }
      ]
    },
    {
      "cell_type": "code",
      "source": [
        "x=\"For only {price:2f} dollers!\"\n",
        "print(x.format(price=49))"
      ],
      "metadata": {
        "colab": {
          "base_uri": "https://localhost:8080/"
        },
        "id": "BAHRrpbU071J",
        "outputId": "6dec6bf4-3162-485e-b81d-9e179018c130"
      },
      "execution_count": 14,
      "outputs": [
        {
          "output_type": "stream",
          "name": "stdout",
          "text": [
            "For only 49.000000 dollers!\n"
          ]
        }
      ]
    },
    {
      "cell_type": "code",
      "source": [
        "x=[\"John\",\"David\",\"Narsai\",\"Paul\"]\n",
        "a=input(\"enter a Name\")\n",
        "y=int(input(\"enter index position\"))\n",
        "x.insert(y,a)\n",
        "print(x)"
      ],
      "metadata": {
        "colab": {
          "base_uri": "https://localhost:8080/"
        },
        "id": "1Wppkmbj2RSm",
        "outputId": "5c414e2c-dd19-4991-d49e-d52b828398e4"
      },
      "execution_count": 16,
      "outputs": [
        {
          "output_type": "stream",
          "name": "stdout",
          "text": [
            "enter a NameNisha\n",
            "enter index position2\n",
            "['John', 'David', 'Nisha', 'Narsai', 'Paul']\n"
          ]
        }
      ]
    },
    {
      "cell_type": "code",
      "source": [],
      "metadata": {
        "id": "5hNE_IXX31br"
      },
      "execution_count": null,
      "outputs": []
    },
    {
      "cell_type": "code",
      "source": [
        "def tia():\n",
        "  y=int(input(\"Enter index\"))\n",
        "  n=input(\"Enter a Name\")\n",
        "  x.insert(y,n)"
      ],
      "metadata": {
        "id": "mCdV7KQd6m53"
      },
      "execution_count": 19,
      "outputs": []
    },
    {
      "cell_type": "code",
      "source": [
        "tia()"
      ],
      "metadata": {
        "colab": {
          "base_uri": "https://localhost:8080/"
        },
        "id": "pyILoZ4A-Mky",
        "outputId": "5a1dc6a5-f0c5-4c87-988d-cc3cde5e4008"
      },
      "execution_count": 20,
      "outputs": [
        {
          "name": "stdout",
          "output_type": "stream",
          "text": [
            "Enter index2\n",
            "Enter a Namejeswin\n"
          ]
        }
      ]
    },
    {
      "cell_type": "code",
      "source": [
        "def Noel(x,y):\n",
        "  print(x+y)\n",
        "  print(x-y)\n",
        "  print(x*y)\n",
        "  print(x/y)"
      ],
      "metadata": {
        "id": "Crt7_Bra-bag"
      },
      "execution_count": 25,
      "outputs": []
    },
    {
      "cell_type": "code",
      "source": [
        "Noel()"
      ],
      "metadata": {
        "colab": {
          "base_uri": "https://localhost:8080/"
        },
        "id": "UabDRycc_bbS",
        "outputId": "f7eb1a30-5b0c-4994-bef7-942b824082d4"
      },
      "execution_count": 22,
      "outputs": [
        {
          "output_type": "stream",
          "name": "stdout",
          "text": [
            "Enter a number: 69\n",
            "Enter another number: 88\n",
            "157\n",
            "-19\n",
            "6072\n",
            "0.7840909090909091\n"
          ]
        }
      ]
    },
    {
      "cell_type": "code",
      "source": [
        "a=int(input(\"Enter a number: \"))\n",
        "b=int(input(\"Enter another number: \"))\n",
        "Noel(a,b)"
      ],
      "metadata": {
        "colab": {
          "base_uri": "https://localhost:8080/"
        },
        "id": "RtPRNWi4_eXA",
        "outputId": "4b5cff26-0159-4a29-f235-29f9b7b49bdc"
      },
      "execution_count": 26,
      "outputs": [
        {
          "output_type": "stream",
          "name": "stdout",
          "text": [
            "Enter a number: 69\n",
            "Enter another number: 88\n",
            "157\n",
            "-19\n",
            "6072\n",
            "0.7840909090909091\n"
          ]
        }
      ]
    },
    {
      "cell_type": "code",
      "source": [
        "def add(x,y):\n",
        "  print(x+y)\n",
        "def sub(x,y):\n",
        "  print(x-y)\n",
        "def mul(x,y):\n",
        "  print(x*y) \n",
        "def div(x,y):\n",
        "  print(x/y)"
      ],
      "metadata": {
        "id": "BdvM9Ek1_gBp"
      },
      "execution_count": 27,
      "outputs": []
    },
    {
      "cell_type": "code",
      "source": [
        "a=int(input(\"Enter a number: \"))\n",
        "b=int(input(\"Enter another number: \"))\n",
        "add(a,b)"
      ],
      "metadata": {
        "colab": {
          "base_uri": "https://localhost:8080/"
        },
        "id": "xcKuLGTAFxbQ",
        "outputId": "7f55fcd1-a20d-4d1c-fcab-1d6dabc86881"
      },
      "execution_count": 28,
      "outputs": [
        {
          "output_type": "stream",
          "name": "stdout",
          "text": [
            "Enter a number: 69\n",
            "Enter another number: 88\n",
            "157\n"
          ]
        }
      ]
    },
    {
      "cell_type": "code",
      "source": [],
      "metadata": {
        "id": "byn96c1XGc6t"
      },
      "execution_count": null,
      "outputs": []
    }
  ]
}